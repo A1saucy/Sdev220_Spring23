{
 "cells": [
  {
   "cell_type": "code",
   "execution_count": 12,
   "id": "e8ba78d5",
   "metadata": {},
   "outputs": [
    {
     "name": "stdout",
     "output_type": "stream",
     "text": [
      "There are 3600 seconds in one hour.\n",
      "There are 86400 seconds in one day.\n",
      "24.0\n",
      "24\n"
     ]
    }
   ],
   "source": [
    "seconds_Per_Minute = 60\n",
    "minutes_Per_Hour = 60\n",
    "seconds_Per_Hour = seconds_Per_Minute * minutes_Per_Hour\n",
    "# converting seconds_Per_Hour to a str for string concatination.\n",
    "print(\"There are \" + str(seconds_Per_Hour) + \" seconds in one hour.\")\n",
    "\n",
    "hours_Per_Day = 24\n",
    "seconds_Per_Day = seconds_Per_Hour * hours_Per_Day\n",
    "# converting seconds_Per_Day to a str for string concatination.\n",
    "print(\"There are \" + str(seconds_Per_Day) + \" seconds in one day.\")\n",
    "\n",
    "# dividing using floating point division\n",
    "result_Float = seconds_Per_Day / seconds_Per_Hour\n",
    "print(result_Float)\n",
    "\n",
    "# dividing using integer division\n",
    "result_Int = seconds_Per_Day // seconds_Per_Hour\n",
    "print(result_Int)"
   ]
  },
  {
   "cell_type": "code",
   "execution_count": null,
   "id": "18ff9a43",
   "metadata": {},
   "outputs": [],
   "source": [
    "# Yes the integer division value agrees with the floating point division value. The only difference is the .0"
   ]
  }
 ],
 "metadata": {
  "kernelspec": {
   "display_name": "Python 3 (ipykernel)",
   "language": "python",
   "name": "python3"
  },
  "language_info": {
   "codemirror_mode": {
    "name": "ipython",
    "version": 3
   },
   "file_extension": ".py",
   "mimetype": "text/x-python",
   "name": "python",
   "nbconvert_exporter": "python",
   "pygments_lexer": "ipython3",
   "version": "3.10.5"
  }
 },
 "nbformat": 4,
 "nbformat_minor": 5
}
