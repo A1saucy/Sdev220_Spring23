{
 "cells": [
  {
   "cell_type": "code",
   "execution_count": 3,
   "id": "ab79c65b",
   "metadata": {},
   "outputs": [
    {
     "name": "stdout",
     "output_type": "stream",
     "text": [
      "open 9-5 daily\n"
     ]
    }
   ],
   "source": [
    "#11.1 11.2 16.8\n",
    "\n",
    "#11.1\n",
    "\n",
    "from zoo import openDaily\n",
    "\n",
    "hours = openDaily()\n",
    "print(hours)\n"
   ]
  },
  {
   "cell_type": "code",
   "execution_count": 4,
   "id": "83990867",
   "metadata": {},
   "outputs": [
    {
     "data": {
      "text/plain": [
       "'Open 9-5 daily'"
      ]
     },
     "execution_count": 4,
     "metadata": {},
     "output_type": "execute_result"
    }
   ],
   "source": [
    "11.2\n",
    "import zoo as menagerie\n",
    "\n",
    "menagerie.openDaily()"
   ]
  },
  {
   "cell_type": "code",
   "execution_count": 15,
   "id": "3d4231ea",
   "metadata": {},
   "outputs": [
    {
     "name": "stdout",
     "output_type": "stream",
     "text": [
      "[('Perdido Street Station', 'ChinaMieville', 2000), ('Small Gods', 'Terry Pratchetet', 1992), ('The Spellman Files', 'Lisa Lutz', 2007), ('The Weirdstone of Brisingamen', 'Alan Garner', 1960), ('Thud!', 'Terry Pratchett', 2005)]\n"
     ]
    }
   ],
   "source": [
    "#16.8\n",
    "import sqlite3\n",
    "conn = sqlite3.connect('books.db')\n",
    "curs = conn.cursor()\n",
    "\n",
    "ins = 'INSERT INTO books (title, author, year) VALUES (?, ?, ?)'\n",
    "curs.execute(ins, ('The Weirdstone of Brisingamen','Alan Garner',1960))\n",
    "curs.execute(ins, ('Perdido Street Station','ChinaMieville', 2000))\n",
    "curs.execute(ins, ('Thud!', 'Terry Pratchett', 2005))\n",
    "curs.execute(ins, ('The Spellman Files', 'Lisa Lutz',2007))\n",
    "curs.execute(ins, ('Small Gods', 'Terry Pratchetet', 1992))       \n",
    "    \n",
    "curs.execute('SELECT * FROM books ORDER BY title ASC')\n",
    "rows = curs.fetchall()\n",
    "print(rows)\n"
   ]
  },
  {
   "cell_type": "code",
   "execution_count": 5,
   "id": "13a69b27",
   "metadata": {},
   "outputs": [
    {
     "ename": "SyntaxError",
     "evalue": "invalid syntax (2222842017.py, line 2)",
     "output_type": "error",
     "traceback": [
      "\u001b[1;36m  Input \u001b[1;32mIn [5]\u001b[1;36m\u001b[0m\n\u001b[1;33m    The Weirdstone of Brisingamen,Alan Garner,1960\u001b[0m\n\u001b[1;37m        ^\u001b[0m\n\u001b[1;31mSyntaxError\u001b[0m\u001b[1;31m:\u001b[0m invalid syntax\n"
     ]
    }
   ],
   "source": [
    "#title,author,year\n",
    "#The Weirdstone of Brisingamen,Alan Garner,1960\n",
    "#Perdido Street Station,China Miéville,2000\n",
    "#Thud!,Terry Pratchett,2005\n",
    "#The Spellman Files,Lisa Lutz,2007\n",
    "#Small Gods,Terry Pratchett,1992\n"
   ]
  },
  {
   "cell_type": "code",
   "execution_count": null,
   "id": "51ea39a5",
   "metadata": {},
   "outputs": [],
   "source": [
    "\n",
    "\n"
   ]
  },
  {
   "cell_type": "code",
   "execution_count": null,
   "id": "8b3b0134",
   "metadata": {},
   "outputs": [],
   "source": []
  },
  {
   "cell_type": "code",
   "execution_count": null,
   "id": "419bbb78",
   "metadata": {},
   "outputs": [],
   "source": []
  }
 ],
 "metadata": {
  "kernelspec": {
   "display_name": "Python 3 (ipykernel)",
   "language": "python",
   "name": "python3"
  },
  "language_info": {
   "codemirror_mode": {
    "name": "ipython",
    "version": 3
   },
   "file_extension": ".py",
   "mimetype": "text/x-python",
   "name": "python",
   "nbconvert_exporter": "python",
   "pygments_lexer": "ipython3",
   "version": "3.10.5"
  }
 },
 "nbformat": 4,
 "nbformat_minor": 5
}
