{
 "cells": [
  {
   "cell_type": "code",
   "execution_count": 22,
   "id": "67d3a7f6",
   "metadata": {},
   "outputs": [
    {
     "name": "stdout",
     "output_type": "stream",
     "text": [
      "Too high\n"
     ]
    }
   ],
   "source": [
    "# exercise 4.1\n",
    "secret = 7\n",
    "guess = 8\n",
    "if (guess == secret):\n",
    "    print(\"Just right\")\n",
    "elif (guess > secret):\n",
    "    print(\"Too high\")\n",
    "else:\n",
    "    print(\"Too low\")\n",
    "    "
   ]
  },
  {
   "cell_type": "code",
   "execution_count": 13,
   "id": "03d3884b",
   "metadata": {},
   "outputs": [
    {
     "name": "stdout",
     "output_type": "stream",
     "text": [
      "It is a pumpkin\n"
     ]
    }
   ],
   "source": [
    "# exercise 4.2\n",
    "small = False\n",
    "green = False\n",
    "\n",
    "# cherry, pea, watermelon, pumpkin\n",
    "\n",
    "if green:\n",
    "    if small:\n",
    "        print(\"It is a pea\")\n",
    "    else:\n",
    "        print(\"It is a watermelon\")\n",
    "else:\n",
    "    if small:\n",
    "        print(\"It is a cherry\")\n",
    "    else:\n",
    "        print(\"It is a pumpkin\")"
   ]
  },
  {
   "cell_type": "code",
   "execution_count": 11,
   "id": "6b18d486",
   "metadata": {},
   "outputs": [
    {
     "name": "stdout",
     "output_type": "stream",
     "text": [
      " When an eel grabs your arm,\n",
      "And it causes great harm,\n",
      "That's - a Moray!\n"
     ]
    }
   ],
   "source": [
    "# exercise 5.1\n",
    "song = \"\"\" When an eel grabs your arm,\n",
    "And it causes great harm,\n",
    "That's - a moray!\"\"\"\n",
    "\n",
    "\n",
    "print(song.replace('moray', 'Moray'))\n"
   ]
  },
  {
   "cell_type": "code",
   "execution_count": 19,
   "id": "70400cc8",
   "metadata": {},
   "outputs": [
    {
     "name": "stdout",
     "output_type": "stream",
     "text": [
      "We dont serve strings around here. Are you a string? No, I'm a frayed Knot.\n",
      "What is said on Father's Day in the forest? 'Pop!' goes the weasel.\n",
      "What makes the sound 'Sis Boom! Bah!'? An exploding sheep.\n"
     ]
    }
   ],
   "source": [
    "#exerise 5.2\n",
    "\n",
    "questions = [\n",
    "    \"We dont serve strings around here. Are you a string?\",\n",
    "    \"What is said on Father's Day in the forest?\",\n",
    "    \"What makes the sound 'Sis Boom! Bah!'?\"\n",
    "]\n",
    "answers = [\n",
    "    \"An exploding sheep.\",\n",
    "    \"No, I'm a frayed Knot.\",\n",
    "    \"'Pop!' goes the weasel.\"\n",
    "]\n",
    "\n",
    "print(questions[0] , answers[1])\n",
    "print(questions[1] , answers[2])\n",
    "print(questions[2] , answers[0])"
   ]
  },
  {
   "cell_type": "code",
   "execution_count": 23,
   "id": "6f59cb34",
   "metadata": {},
   "outputs": [
    {
     "name": "stdout",
     "output_type": "stream",
     "text": [
      "0\n",
      "1\n",
      "2\n",
      "3\n"
     ]
    }
   ],
   "source": [
    "#exercise 6.1 \n",
    "# @todo 6.2 and 6.3\n",
    "\n",
    "numbers = [3, 2, 1, 0]\n",
    "numbers.sort()\n",
    "for i in numbers:\n",
    "    print(i)"
   ]
  },
  {
   "cell_type": "code",
   "execution_count": 1,
   "id": "93f86c42",
   "metadata": {},
   "outputs": [
    {
     "name": "stdout",
     "output_type": "stream",
     "text": [
      "Too low\n",
      "Too low\n",
      "Too low\n",
      "Too low\n",
      "Too low\n",
      "Too low\n",
      "You found it!\n"
     ]
    }
   ],
   "source": [
    "#exercise 6.2\n",
    "guess_Me = 7\n",
    "number = 1\n",
    "\n",
    "while number < guess_Me:\n",
    "    print(\"Too low\")\n",
    "    number +=1\n",
    "    \n",
    "    if number > guess_Me:\n",
    "        print(\"Oops\")\n",
    "        break\n",
    "    \n",
    "    elif number == guess_Me:\n",
    "        print(\"You found it!\")\n",
    "        break\n",
    "    \n"
   ]
  },
  {
   "cell_type": "code",
   "execution_count": 3,
   "id": "c22b0c9d",
   "metadata": {},
   "outputs": [
    {
     "name": "stdout",
     "output_type": "stream",
     "text": [
      "Too low\n",
      "Too low\n",
      "Too low\n",
      "Too low\n",
      "You found it!\n"
     ]
    }
   ],
   "source": [
    "#exercise 6.3\n",
    "guess_Me = 5\n",
    "guess = 0\n",
    "for number in range(5):\n",
    "    guess +=1\n",
    "    if guess < guess_Me:\n",
    "        print(\"Too low\")\n",
    "    elif guess > guess_Me:\n",
    "        print(\"Oops\")\n",
    "        break\n",
    "else:\n",
    "    print(\"You found it!\")"
   ]
  },
  {
   "cell_type": "code",
   "execution_count": null,
   "id": "e53ff105",
   "metadata": {},
   "outputs": [],
   "source": []
  },
  {
   "cell_type": "code",
   "execution_count": null,
   "id": "31fad4aa",
   "metadata": {},
   "outputs": [],
   "source": []
  }
 ],
 "metadata": {
  "kernelspec": {
   "display_name": "Python 3 (ipykernel)",
   "language": "python",
   "name": "python3"
  },
  "language_info": {
   "codemirror_mode": {
    "name": "ipython",
    "version": 3
   },
   "file_extension": ".py",
   "mimetype": "text/x-python",
   "name": "python",
   "nbconvert_exporter": "python",
   "pygments_lexer": "ipython3",
   "version": "3.10.5"
  }
 },
 "nbformat": 4,
 "nbformat_minor": 5
}
